{
 "cells": [
  {
   "cell_type": "code",
   "execution_count": 15,
   "metadata": {
    "scrolled": true
   },
   "outputs": [
    {
     "name": "stdout",
     "output_type": "stream",
     "text": [
      "카이제곱: 7.21425521664\n",
      "p-value: 0.00723268195863\n",
      "자유도: 1\n",
      "expected [[  9.79591837   6.20408163]\n",
      " [ 20.20408163  12.79591837]]\n",
      "독립적이지 않다.\n"
     ]
    }
   ],
   "source": [
    "import numpy as np\n",
    "from scipy import stats as sp\n",
    "# 카이제곱 검정\n",
    "# 동아리 출석률\n",
    "# 직장인 출석률 55%이상, 55%이하 5, 11\n",
    "# 학생 출석률 55%이상, 55%이하 25, 8\n",
    "a1 = [5, 11]\n",
    "a2 = [25, 8]\n",
    "attendance = np.array([a1, a2])\n",
    "chi2, p, dof, expected = sp.chi2_contingency(attendance)\n",
    "print(\"카이제곱:\", chi2)\n",
    "print(\"p-value:\", p)\n",
    "print(\"자유도:\", dof)\n",
    "print(\"expected\", expected)\n",
    "\n",
    "if p <= 0.05:\n",
    "    print(\"독립적이지 않다.\")\n",
    "else:\n",
    "    print(\"독립적이다\")\n"
   ]
  },
  {
   "cell_type": "code",
   "execution_count": null,
   "metadata": {
    "collapsed": true
   },
   "outputs": [],
   "source": []
  },
  {
   "cell_type": "code",
   "execution_count": null,
   "metadata": {
    "collapsed": true
   },
   "outputs": [],
   "source": []
  }
 ],
 "metadata": {
  "anaconda-cloud": {},
  "kernelspec": {
   "display_name": "Python [Anaconda3]",
   "language": "python",
   "name": "Python [Anaconda3]"
  },
  "language_info": {
   "codemirror_mode": {
    "name": "ipython",
    "version": 3
   },
   "file_extension": ".py",
   "mimetype": "text/x-python",
   "name": "python",
   "nbconvert_exporter": "python",
   "pygments_lexer": "ipython3",
   "version": "3.5.4"
  }
 },
 "nbformat": 4,
 "nbformat_minor": 2
}
