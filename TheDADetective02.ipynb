{
 "cells": [
  {
   "cell_type": "code",
   "execution_count": 1,
   "metadata": {},
   "outputs": [
    {
     "data": {
      "image/png": "[encoded data removed]",
      "text/plain": [
       "<matplotlib.figure.Figure at 0x2811af458d0>"
      ]
     },
     "metadata": {},
     "output_type": "display_data"
    },
    {
     "name": "stdout",
     "output_type": "stream",
     "text": [
      "Ttest_indResult(statistic=-0.59472710389548555, pvalue=0.55270491197129257)\n"
     ]
    }
   ],
   "source": [
    "import numpy as np\n",
    "import matplotlib.pyplot as plt\n",
    "from scipy import stats \n",
    "\n",
    "# 주사위를 10회 던진 결과의 평균값을 10만회 반복한 것을 히스토그램으로 표현\n",
    "result = []\n",
    "for i in range(0,100000):\n",
    "    value = np.mean(np.random.randint(1,7, size=10))\n",
    "    result.append(value)\n",
    "\n",
    "plt.hist(result, np.arange(2,5,0.1))\n",
    "plt.show()\n",
    "\n",
    "# 평균값 차이 검정 or t 검정\n",
    "value1 = np.random.randint(1,7, size=100)\n",
    "value2 = np.random.randint(1,7, size=100)\n",
    "\n",
    "t_result = stats.ttest_ind(value1, value2)\n",
    "print(t_result)"
   ]
  },
  {
   "cell_type": "code",
   "execution_count": null,
   "metadata": {
    "collapsed": true
   },
   "outputs": [],
   "source": []
  },
  {
   "cell_type": "code",
   "execution_count": null,
   "metadata": {
    "collapsed": true
   },
   "outputs": [],
   "source": []
  }
 ],
 "metadata": {
  "anaconda-cloud": {},
  "kernelspec": {
   "display_name": "Python [Anaconda3]",
   "language": "python",
   "name": "Python [Anaconda3]"
  },
  "language_info": {
   "codemirror_mode": {
    "name": "ipython",
    "version": 3
   },
   "file_extension": ".py",
   "mimetype": "text/x-python",
   "name": "python",
   "nbconvert_exporter": "python",
   "pygments_lexer": "ipython3",
   "version": "3.5.4"
  }
 },
 "nbformat": 4,
 "nbformat_minor": 2
}
