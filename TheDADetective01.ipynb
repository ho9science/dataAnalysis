{
 "cells": [
  {
   "cell_type": "code",
   "execution_count": 2,
   "metadata": {},
   "outputs": [
    {
     "name": "stdout",
     "output_type": "stream",
     "text": [
      "[1 2 4 2 3 1 6 2 3 3 1 3 3 5 5 5 5 4 6 1 1 2 2 6 2 1 4 6 3 4 3 2 6 6 1 3 1\n",
      " 3 1 5 5 5 3 6 3 4 6 3 1 2 1 2 1 4 6 3 2 1 4 5 1 2 1 1 3 1 1 6 2 3 6 4 4 1\n",
      " 2 3 1 1 6 3 4 6 4 6 4 1 1 1 5 4 1 6 2 6 5 2 4 4 2 6 1 6 5 3 4 2 2 3 4 1 1\n",
      " 1 2 5 2 6 5 6 6 1 6 1 1 4 1 3 6 1 6 2 6 1 2 5 1 3 4 6 2 3 2 4 5 2 5 1 6 2\n",
      " 4 2 1 2 1 1 2 2 4 4 5 2 1 3 2 1 4 6 5 3 2 1 4 2 3 5 6 6 6 6 4 4 5 2 3 1 6\n",
      " 1 6 2 6 4 3 6 6 3 5 4 3 1 6 6 5 5 3 4 5 5 5 6 6 5 1 4 6 2 4 3 4 6 2 6 5 3\n",
      " 5 4 4 3 5 3 4 1 1 6 5 2 3 3 2 6 1 2 3 6 2 6 1 1 5 2 1 4 4 2 3 2 5 2 4 4 2\n",
      " 1 2 3 2 6 3 2 1 3 4 4 5 6 3 2 2 2 3 4 1 5 6 6 3 1 4 4 2 1 4 4 3 1 5 3 1 4\n",
      " 1 3 5 5 3 2 3 3 3 6 1 3 4 2 4 6 3 6 2 2 6 6 1 1 3 2 3 2 4 3 4 3 3 6 1 2 2\n",
      " 4 5 4 2 2 3 1 3 5 6 3 2 6 5 6 6 3 2 5 5 5 1 6 5 3 3 5 6 4 3 5 3 6 5 6 6 6\n",
      " 4 3 1 6 6 5 4 5 4 2 6 3 1 1 5 5 1 6 3 4 3 2 4 5 2 3 1 6 4 3 5 5 5 3 5 1 1\n",
      " 3 6 1 3 3 5 1 1 2 1 1 5 4 4 6 1 4 2 6 6 4 3 5 6 2 2 5 2 2 4 6 1 2 3 6 2 1\n",
      " 3 1 1 1 3 1 5 3 2 4 2 1 4 3 6 3 5 6 2 5 4 1 6 3 6 1 5 3 6 4 5 2 6 5 1 4 1\n",
      " 4 5 1 3 6 4 3 1 1 6 5 4 2 3 2 2 1 4 3 4 4 4 1 2 1 2 1 2 6 1 1 3 5 1 3 1 6\n",
      " 2 5 3 3 5 2 5 1 5 1 1 4 4 6 3 3 3 2 3 3 4 5 5 6 3 2 3 3 2 4 6 4 3 5 2 4 2\n",
      " 2 4 5 2 6 6 3 5 4 3 6 6 4 3 5 1 6 1 2 3 4 4 3 6 2 6 3 4 6 2 6 4 2 1 6 2 2\n",
      " 1 4 1 3 5 2 1 4 3 2 6 6 6 1 2 1 1 3 5 5 6 5 3 4 6 2 2 3 4 6 4 2 6 2 5 3 6\n",
      " 1 5 6 3 4 2 1 3 3 1 5 5 6 4 4 5 4 2 4 4 1 4 1 5 2 5 1 4 6 1 3 5 2 2 1 1 6\n",
      " 2 6 1 2 5 3 6 4 3 5 3 3 1 6 4 6 3 6 6 1 2 6 6 4 3 2 1 5 1 4 1 5 3 6 2 3 2\n",
      " 4 4 4 2 2 2 2 1 5 1 3 5 4 1 2 2 3 5 6 3 4 1 4 6 6 1 4 3 4 3 1 4 3 4 2 6 2\n",
      " 1 1 2 4 2 1 3 6 5 5 6 5 3 6 5 4 4 3 2 1 4 2 3 4 5 6 5 2 3 3 5 4 2 4 1 6 6\n",
      " 5 3 2 6 2 4 3 6 5 6 2 2 5 5 4 4 2 2 6 4 1 4 2 3 4 3 5 3 3 3 5 2 6 3 1 3 5\n",
      " 3 1 5 6 5 3 3 5 4 4 4 5 4 4 2 6 5 1 4 4 1 6 4 6 2 4 1 2 5 3 2 2 6 5 5 2 4\n",
      " 5 1 4 2 5 3 6 1 4 6 5 3 4 2 3 2 3 6 4 4 5 4 6 5 2 4 5 3 3 2 1 4 1 3 3 1 3\n",
      " 2 1 2 4 1 6 4 3 4 3 3 2 2 3 1 4 3 6 4 6 2 3 1 2 6 4 6 4 1 3 6 6 2 4 2 1 5\n",
      " 4 1 4 4 1 4 6 1 3 3 2 5 6 6 3 2 1 3 4 1 2 3 1 4 5 2 4 6 6 1 4 4 4 6 4 3 4\n",
      " 5 6 6 5 6 6 2 3 6 4 3 4 4 2 6 6 6 6 2 5 4 5 1 2 6 2 1 6 5 2 2 5 1 3 5 5 3\n",
      " 4]\n",
      "[167 172 177 174 310]\n",
      "[1 2 3 4 5 6]\n",
      "3.46\n",
      "2.9024\n",
      "1.70364315512\n",
      "3.5\n"
     ]
    }
   ],
   "source": [
    "import numpy as np\n",
    "import matplotlib.pyplot as plt\n",
    "\n",
    "# 주사위 1~6까지 중 랜덤으로 1000번 출력\n",
    "d1 = np.random.randint(1, 7, size=1000)\n",
    "print(d1)\n",
    "bins2 = np.arange(1,7,1)\n",
    "hist, bins = np.histogram(d1, bins2)\n",
    "#도수\n",
    "print(hist)\n",
    "#구간\n",
    "print(bins)\n",
    "#평균\n",
    "mean = np.mean(d1)\n",
    "print(mean)\n",
    "#분산\n",
    "var = np.var(d1)\n",
    "print(var)\n",
    "#표준편차\n",
    "std = np.std(d1)\n",
    "print(std)\n",
    "#그래프\n",
    "plt.hist(d1)\n",
    "plt.show()\n"
   ]
  },
  {
   "cell_type": "code",
   "execution_count": null,
   "metadata": {
    "collapsed": true
   },
   "outputs": [],
   "source": [
    "import numpy as np\n",
    "import matplotlib.pyplot as plt\n",
    "\n",
    "#기대값\n",
    "prb = 1/ 6\n",
    "sum_value = 0\n",
    "for i in bins:\n",
    "\tsum_value+=(i*prb)\n",
    "print(sum_value)"
   ]
  },
  {
   "cell_type": "code",
   "execution_count": 1,
   "metadata": {},
   "outputs": [
    {
     "data": {
      "image/png": "[encoded data removed]",
      "text/plain": [
       "<matplotlib.figure.Figure at 0x159130043c8>"
      ]
     },
     "metadata": {},
     "output_type": "display_data"
    }
   ],
   "source": [
    "import numpy as np\n",
    "import matplotlib.pyplot as plt\n",
    "\n",
    "#일주일 동안 매일 100회 실시하는 것을 1000주 반복하고 주마다 1등이 나온 횟수를 히스토그램으로 표현\n",
    "result = []\n",
    "for j in range(0, 1000):\n",
    "\tcount = 0\n",
    "\tfor i in range(0, 100):\n",
    "\t\td2 = np.random.choice(2, 1, p=[0.99,0.01])\n",
    "\t\tif d2 == 1:\n",
    "\t\t\tcount+=1\n",
    "\tresult.append(count)\n",
    "# print(result)\t\t\n",
    "plt.hist(result)\n",
    "plt.show()\t"
   ]
  },
  {
   "cell_type": "code",
   "execution_count": null,
   "metadata": {
    "collapsed": true
   },
   "outputs": [],
   "source": []
  }
 ],
 "metadata": {
  "anaconda-cloud": {},
  "kernelspec": {
   "display_name": "Python [Anaconda3]",
   "language": "python",
   "name": "Python [Anaconda3]"
  },
  "language_info": {
   "codemirror_mode": {
    "name": "ipython",
    "version": 3
   },
   "file_extension": ".py",
   "mimetype": "text/x-python",
   "name": "python",
   "nbconvert_exporter": "python",
   "pygments_lexer": "ipython3",
   "version": "3.5.4"
  }
 },
 "nbformat": 4,
 "nbformat_minor": 2
}
